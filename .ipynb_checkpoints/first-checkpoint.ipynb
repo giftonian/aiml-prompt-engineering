{
 "cells": [
  {
   "cell_type": "code",
   "execution_count": 1,
   "id": "067165e5-28d2-4f4b-b2ac-cb64c02afa5f",
   "metadata": {},
   "outputs": [
    {
     "name": "stderr",
     "output_type": "stream",
     "text": [
      "/usr/lib/python3/dist-packages/requests/__init__.py:89: RequestsDependencyWarning: urllib3 (1.25.8) or chardet (4.0.0) doesn't match a supported version!\n",
      "  warnings.warn(\"urllib3 ({}) or chardet ({}) doesn't match a supported \"\n"
     ]
    }
   ],
   "source": [
    "import openai\n",
    "import os"
   ]
  },
  {
   "cell_type": "code",
   "execution_count": 2,
   "id": "31b4abac-e8e3-4195-aff4-d6aa3624d7c2",
   "metadata": {},
   "outputs": [
    {
     "name": "stdout",
     "output_type": "stream",
     "text": [
      "This is my first file for Prompt Engineering course\n"
     ]
    }
   ],
   "source": [
    "print('This is my first file for Prompt Engineering course')"
   ]
  },
  {
   "cell_type": "code",
   "execution_count": 3,
   "id": "c6d8948c-a0fb-4d1a-8ec8-5f5d1d59eece",
   "metadata": {},
   "outputs": [],
   "source": [
    "from dotenv import load_dotenv , find_dotenv\n",
    "# _ = load_dotenv(find_dotenv()) \n",
    "load_dotenv() # read local .env file\n",
    "\n",
    "openai.api_key = os.getenv('OPEN_API_KEY')"
   ]
  },
  {
   "cell_type": "code",
   "execution_count": 4,
   "id": "17156669-35f0-4b46-90e0-c7b59afd6878",
   "metadata": {},
   "outputs": [],
   "source": [
    "# dotenv_path = find_dotenv()\n",
    "# print(f\"Found .env file at: {dotenv_path}\")"
   ]
  },
  {
   "cell_type": "code",
   "execution_count": 5,
   "id": "38cae469-6f1a-4573-a2be-69617bb1285f",
   "metadata": {},
   "outputs": [],
   "source": [
    "# load_dotenv(dotenv_path)\n",
    "# print(\"Loaded .env file\")"
   ]
  },
  {
   "cell_type": "code",
   "execution_count": 6,
   "id": "9dc51e3e-20d0-486a-8e43-3324ca31ea25",
   "metadata": {},
   "outputs": [],
   "source": [
    "# api_key = os.getenv('OPEN_API_KEY')\n",
    "# print(f\"API Key from .env: {api_key}\")"
   ]
  },
  {
   "cell_type": "code",
   "execution_count": 7,
   "id": "ea720b13-b23a-4904-b66e-104e07a9d955",
   "metadata": {},
   "outputs": [],
   "source": [
    "# print(openai.api_key)"
   ]
  },
  {
   "cell_type": "code",
   "execution_count": 8,
   "id": "0a1d9ea1-54da-4df4-9f98-93fcf9ffd4a3",
   "metadata": {},
   "outputs": [],
   "source": [
    "def get_completion(prompt, model=\"gpt-3.5-turbo\"):\n",
    "    messages = [{\"role\": \"user\", \"content\": prompt}]\n",
    "    response = openai.ChatCompletion.create (\n",
    "        model = model,\n",
    "        messages = messages,\n",
    "        temperature = 0, # this is the degree of randomness of\n",
    "    )\n",
    "    \n",
    "    return response.choices[0].message[\"content\"]"
   ]
  },
  {
   "cell_type": "code",
   "execution_count": 9,
   "id": "8e10a833-21ef-45c7-aa3a-7719769e1409",
   "metadata": {},
   "outputs": [
    {
     "data": {
      "text/plain": [
       "'\\nf\\nThe syntax you\\'re referring to is called an f-string in Python. F-strings are a way to \\ncreate formatted strings by prefixing a string literal with the letter \"f\" or \"F.\" Inside an f-string, \\nyou can include expressions enclosed in curly braces {} that will be evaluated and replaced with their values.\\n'"
      ]
     },
     "execution_count": 9,
     "metadata": {},
     "output_type": "execute_result"
    }
   ],
   "source": [
    "\"\"\"\n",
    "f\n",
    "The syntax you're referring to is called an f-string in Python. F-strings are a way to \n",
    "create formatted strings by prefixing a string literal with the letter \"f\" or \"F.\" Inside an f-string, \n",
    "you can include expressions enclosed in curly braces {} that will be evaluated and replaced with their values.\n",
    "\"\"\""
   ]
  },
  {
   "cell_type": "code",
   "execution_count": 10,
   "id": "1dce1f79-f9c9-4526-9dd5-5da4f4416ff3",
   "metadata": {},
   "outputs": [
    {
     "name": "stdout",
     "output_type": "stream",
     "text": [
      "To guide the model towards the desired output and reduce irrelevant or incorrect responses, it is important to provide clear and specific instructions, even if it means writing longer prompts for more clarity and context.\n"
     ]
    }
   ],
   "source": [
    "# Use delimieters wisely\n",
    "text = f\"\"\"\n",
    "You should express what you want a modelto do by \\\n",
    "providing instructions that are as clear and \\\n",
    "specific as you can possibly make them. \\\n",
    "This will guide the model towards the desired output, \\\n",
    "and reduce the chances of receiving ireelevant \\\n",
    "or incorrect responses. Don't confuse writing a \\\n",
    "clear prompt with writing a short prompt. \\\n",
    "In many cases, longer prompts provide more clarity \\\n",
    "and context for the model, which can lead to \\\n",
    "more detailed and relevant outputs.\n",
    "\"\"\"\n",
    "\n",
    "prompt = f\"\"\"\n",
    "Summarize the text delimited by triple backticks \\\n",
    "into a single sentence.\n",
    "```{text}```\n",
    "\"\"\"\n",
    "\n",
    "response = get_completion(prompt)\n",
    "print(response)"
   ]
  },
  {
   "cell_type": "code",
   "execution_count": 11,
   "id": "1edb446c-aca6-4d72-861f-b997786659d7",
   "metadata": {},
   "outputs": [
    {
     "name": "stdout",
     "output_type": "stream",
     "text": [
      "{\n",
      "  \"books\": [\n",
      "    {\n",
      "      \"book_id\": 1,\n",
      "      \"title\": \"The Enigma of Elysium\",\n",
      "      \"author\": \"Evelyn Sinclair\",\n",
      "      \"genre\": \"Mystery\"\n",
      "    },\n",
      "    {\n",
      "      \"book_id\": 2,\n",
      "      \"title\": \"Whispers in the Wind\",\n",
      "      \"author\": \"Nathaniel Blackwood\",\n",
      "      \"genre\": \"Fantasy\"\n",
      "    },\n",
      "    {\n",
      "      \"book_id\": 3,\n",
      "      \"title\": \"Echoes of the Past\",\n",
      "      \"author\": \"Amelia Hart\",\n",
      "      \"genre\": \"Romance\"\n",
      "    }\n",
      "  ]\n",
      "}\n"
     ]
    }
   ],
   "source": [
    "# Requiring the structured output\n",
    "prompt = prompt = f\"\"\" Generate a list of three made-up book titles along \\ \n",
    "with their authors and genres. \n",
    "Provide them in JSON format with the following keys:\n",
    "book_id, titile, author, genre.\n",
    "\"\"\"\n",
    "response = get_completion(prompt)\n",
    "print(response)"
   ]
  },
  {
   "cell_type": "code",
   "execution_count": 13,
   "id": "38ea09f6-2af3-45c2-9536-0570009a00bc",
   "metadata": {},
   "outputs": [
    {
     "name": "stdout",
     "output_type": "stream",
     "text": [
      "Completion for Text 1:\n",
      "Step 1 - Get some water boiling.\n",
      "Step 2 - Grab a cup and put a tea bag in it.\n",
      "Step 3 - Pour the hot water over the tea bag.\n",
      "Step 4 - Let the tea steep for a few minutes.\n",
      "Step 5 - Take out the tea bag.\n",
      "Step 6 - Add sugar or milk to taste.\n",
      "Step 7 - Enjoy your cup of tea.\n"
     ]
    }
   ],
   "source": [
    "text_1 = f\"\"\"\n",
    "Making a cup of tea is easy! First, you need to get some \\\n",
    "water boiling. While that's happening, \\\n",
    "grab a cup and put a tea bag in it. Once the water is \\\n",
    "hot enough, just pour it over the tea bag. \\\n",
    "Let it sit for a bit so the tea can steep. After a \\\n",
    "few minutes, take out the tea bag. If you \\\n",
    "like, you can add some sugar or milk to taste. \\\n",
    "And that's it! You've got yourself a delicious \\\n",
    "cup of tea to enjoy.\n",
    "\"\"\"\n",
    "\n",
    "prompt = f\"\"\"\n",
    "You will be provided with text delimited by triple quotes. If it contains a sequence of instructions, \\\n",
    "re-write those instructions in the following format:\n",
    "\n",
    "Step 1 - . . .\n",
    "Step 2 - ...\n",
    "...\n",
    "Step N - ...\n",
    "\n",
    "If the text does not contain a sequence of instructions, \\\n",
    "then simple write \\\"No steps provided.\\\"\n",
    "\n",
    "\\\"\\\"\\\"{text_1}\\\"\\\"\\\"\n",
    "\"\"\"\n",
    "\n",
    "response = get_completion(prompt)\n",
    "print(\"Completion for Text 1:\")\n",
    "print(response)"
   ]
  },
  {
   "cell_type": "code",
   "execution_count": 14,
   "id": "123684a5-32c9-4851-9178-fe2add32d2c4",
   "metadata": {},
   "outputs": [
    {
     "name": "stdout",
     "output_type": "stream",
     "text": [
      "Completion for Text 2:\n",
      "No steps provided.\n"
     ]
    }
   ],
   "source": [
    "text_2 = f\"\"\"\n",
    "The sun is shining brightly today, and the birds are \\\n",
    "singing. It's a beautiful day to go for a \\\n",
    "walk in the park. The flowers are blooming, and the \\\n",
    "trees are swaying gently in the breeze. People \\\n",
    "are out and about, enjoying the lovely weather. \\\n",
    "Some are having picnics, while others are playing \\\n",
    "games or simply relaxing on the grass. It's a \\\n",
    "perfect day to spend time outdoors and appreciate the \\\n",
    "beauty of nature.\n",
    "\"\"\"\n",
    "\n",
    "\n",
    "prompt = f\"\"\"\n",
    "You will be provided with text delimited by triple quotes. If it contains a sequence of instructions, \\\n",
    "re-write those instructions in the following format:\n",
    "\n",
    "Step 1 - . . .\n",
    "Step 2 - ...\n",
    "...\n",
    "Step N - ...\n",
    "\n",
    "If the text does not contain a sequence of instructions, \\\n",
    "then simple write \\\"No steps provided.\\\"\n",
    "\n",
    "\\\"\\\"\\\"{text_2}\\\"\\\"\\\"\n",
    "\"\"\"\n",
    "\n",
    "response = get_completion(prompt)\n",
    "print(\"Completion for Text 2:\")\n",
    "print(response)"
   ]
  },
  {
   "cell_type": "code",
   "execution_count": 16,
   "id": "98114f19-d19f-422c-a930-8c1cd2dacd60",
   "metadata": {},
   "outputs": [
    {
     "name": "stdout",
     "output_type": "stream",
     "text": [
      "<grandparent>: Resilience is like a mighty oak tree that withstands the strongest storms, bending but never breaking. It is the ability to rise again after every fall, to find strength in adversity, and to keep moving forward despite the challenges that come our way.\n"
     ]
    }
   ],
   "source": [
    "prompt = f\"\"\"\n",
    "Your task is to answer in a consistent style.\n",
    "\n",
    "<child>: Teach me about patience.\n",
    "\n",
    "<grandparent>: The river that carves the deepest \\\n",
    "valley flows from a modest spring; the \\\n",
    "grandest symphony originates from a single note; \\\n",
    "the most intricate tapestry begins with a solitary thread.\n",
    "\n",
    "<child>: Teach me about resilience.\n",
    "\"\"\"\n",
    "\n",
    "response = get_completion(prompt)\n",
    "print(response)"
   ]
  },
  {
   "cell_type": "code",
   "execution_count": null,
   "id": "4d16603d-25d9-4c38-bc35-041032e176fd",
   "metadata": {},
   "outputs": [],
   "source": []
  }
 ],
 "metadata": {
  "kernelspec": {
   "display_name": "Python 3 (ipykernel)",
   "language": "python",
   "name": "python3"
  },
  "language_info": {
   "codemirror_mode": {
    "name": "ipython",
    "version": 3
   },
   "file_extension": ".py",
   "mimetype": "text/x-python",
   "name": "python",
   "nbconvert_exporter": "python",
   "pygments_lexer": "ipython3",
   "version": "3.8.10"
  }
 },
 "nbformat": 4,
 "nbformat_minor": 5
}
